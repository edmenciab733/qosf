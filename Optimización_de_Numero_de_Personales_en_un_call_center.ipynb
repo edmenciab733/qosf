{
  "nbformat": 4,
  "nbformat_minor": 0,
  "metadata": {
    "colab": {
      "provenance": [],
      "toc_visible": true,
      "authorship_tag": "ABX9TyMNNFVwbFMwn6AETgRECMuT",
      "include_colab_link": true
    },
    "kernelspec": {
      "name": "python3",
      "display_name": "Python 3"
    },
    "language_info": {
      "name": "python"
    }
  },
  "cells": [
    {
      "cell_type": "markdown",
      "metadata": {
        "id": "view-in-github",
        "colab_type": "text"
      },
      "source": [
        "<a href=\"https://colab.research.google.com/github/edmenciab733/qosf/blob/main/Optimizaci%C3%B3n_de_Numero_de_Personales_en_un_call_center.ipynb\" target=\"_parent\"><img src=\"https://colab.research.google.com/assets/colab-badge.svg\" alt=\"Open In Colab\"/></a>"
      ]
    },
    {
      "cell_type": "markdown",
      "source": [
        "Optimización de cantidad de personal en un callcenter utilizando"
      ],
      "metadata": {
        "id": "1kPwCaRvm1zl"
      }
    },
    {
      "cell_type": "markdown",
      "source": [
        "# Librerias"
      ],
      "metadata": {
        "id": "uWugU2heJQMR"
      }
    },
    {
      "cell_type": "code",
      "source": [
        "%%capture\n",
        "!pip install qiskit\n",
        "!pip install matplotlib\n",
        "!pip install pylatexenc\n",
        "!pip install pulp"
      ],
      "metadata": {
        "id": "fWban_9MJWTJ"
      },
      "execution_count": null,
      "outputs": []
    },
    {
      "cell_type": "markdown",
      "source": [
        "# Descripción del problema\n",
        "\n",
        "Encontrar el nro óptimo de agentes y supervisores, teniendo el cuenta el presupuesto y en un máximo de horas trabajadas. La idea es maximizar el nro de mensajes prespuestos teniendo en cuenta un promedio de mensajes recepcionados por minutos\n"
      ],
      "metadata": {
        "id": "XoTFmxSg4oMj"
      }
    },
    {
      "cell_type": "markdown",
      "source": [
        "## Función Objetivo"
      ],
      "metadata": {
        "id": "cROVGa7aqrqY"
      }
    },
    {
      "cell_type": "markdown",
      "source": [
        "\n",
        "\n",
        "* Variable binaria que vale 1 si el agente i es contratado y 0 si no.: $$ x_i  $$\n",
        "* Variable binaria que vale 1 si el agente i es contratado y 0 si no.: $$ y_i  $$\n",
        "* Tiempo aceptable de atención por cada mensaje por el agente $$ t_a $$\n",
        "* Cantidad de mensajes por minutos $$ w_a $$\n",
        "* Cantidad de mensajes por minutos $$ w_s = \\frac{w_a}{ta} $$\n",
        "* Tiempo aceptable de atención por cada mensaje por el supervisión $$ t_s = ws $$\n",
        "* Cantidad de Agentes $$ N $$\n",
        "* Cantidad de Supervisores $$ M $$\n",
        "\n",
        "\n",
        "\n",
        "Maximizar:\n",
        "\n",
        "$$ Z = (t_a * w_a * \\sum_{i=1}^N x_i)  + (t_s * w_s * \\sum_{i=1}^M y_j)  $$\n",
        "\n",
        "\n"
      ],
      "metadata": {
        "id": "AcIYcVLyaWxc"
      }
    },
    {
      "cell_type": "markdown",
      "source": [
        "Solver: https://www.gams.com/latest/docs/S_CBC.html"
      ],
      "metadata": {
        "id": "53Rfsy-yu1Er"
      }
    },
    {
      "cell_type": "code",
      "source": [
        "from pulp import LpMaximize, LpProblem, LpVariable, lpSum, LpStatus"
      ],
      "metadata": {
        "id": "C0q4NhBX9eU6"
      },
      "execution_count": null,
      "outputs": []
    },
    {
      "cell_type": "code",
      "source": [
        "import pulp as pl\n",
        "solver_list = pl.listSolvers(onlyAvailable=True)\n",
        "print(solver_list)"
      ],
      "metadata": {
        "colab": {
          "base_uri": "https://localhost:8080/"
        },
        "id": "MTmJvjRi9gHN",
        "outputId": "a06e5142-3ffd-45ca-bea3-d738d8198c05"
      },
      "execution_count": null,
      "outputs": [
        {
          "output_type": "stream",
          "name": "stdout",
          "text": [
            "['PULP_CBC_CMD']\n"
          ]
        }
      ]
    },
    {
      "cell_type": "code",
      "source": [
        "# Crear el problema de programación lineal\n",
        "model = LpProblem(name=\"numero-optimo-de-empleados\", sense=LpMaximize)\n",
        "# Definir las variables\n",
        "# 5 agentes y 3 supervisores\n",
        "agentes = [LpVariable(name=f\"agente_{i}\", cat='Binary') for i in range(5)]\n",
        "supervisores = [LpVariable(name=f\"supervisor_{i}\", cat='Binary') for i in range(3)]\n",
        "\n",
        "\n",
        "\n",
        "# Tasa de mensajes por minuto y tiempo de atención por mensaje\n",
        "wa = 100 # cantidad de mensajes por minutos\n",
        "ta = 4  # tiempo de atención en minutos\n",
        "\n",
        "\n",
        "ws = round(wa /ta, 0)\n",
        "ts = ws  # en minutos\n",
        "\n",
        "# Añadir la función objetivo\n",
        "model += lpSum(wa * ta * (a) for a in agentes) + lpSum(ws * ts * s for s in supervisores), \"Maximizar_Atencion\"\n"
      ],
      "metadata": {
        "id": "fu-aoJIAMUu2"
      },
      "execution_count": null,
      "outputs": []
    },
    {
      "cell_type": "markdown",
      "source": [
        "## Restricciones\n",
        "\n"
      ],
      "metadata": {
        "id": "B_YPRrejqlhM"
      }
    },
    {
      "cell_type": "markdown",
      "source": [
        "### Presupuesto\n",
        "\n",
        "\n",
        "\n",
        "*   Costo de cada agente por hora $$ cx_i $$\n",
        "*   Costo de cada supervisor por hora $$ cy_i $$\n",
        "\n",
        "\n",
        "\n",
        "$$  ( \\sum_{i=1}^N x_i * cx_i)  + ( \\sum_{i=1}^M y_j * cy_i) \\leq presupuesto $$"
      ],
      "metadata": {
        "id": "o3WR4Yz05RRD"
      }
    },
    {
      "cell_type": "code",
      "source": [
        "# Costos individuales para agentes y supervisores\n",
        "agent_costs = [3000, 3200, 3100, 2900, 3050 ]\n",
        "supervisor_costs = [5000, 5100, 5200]\n",
        "\n",
        "# Presupuesto total\n",
        "presupuesto = int(input(\"Presupuesto por día: \" ))\n",
        "\n",
        "\n",
        "# Añadir la restricción de presupuesto\n",
        "model += lpSum(a * c for a, c in zip(agentes, agent_costs)) + lpSum(s * c for s, c in zip(supervisores, supervisor_costs)) <= presupuesto, \"Presupuesto\"\n",
        "\n",
        "model += lpSum(supervisores) >= 1, \"Al_menos_un_supervisor\""
      ],
      "metadata": {
        "colab": {
          "base_uri": "https://localhost:8080/"
        },
        "id": "khnW2nN8qasM",
        "outputId": "d304aaa3-348d-4edb-a373-08d116d8ba85"
      },
      "execution_count": null,
      "outputs": [
        {
          "name": "stdout",
          "output_type": "stream",
          "text": [
            "Presupuesto por día: 15000\n"
          ]
        }
      ]
    },
    {
      "cell_type": "markdown",
      "source": [
        "### Al menos n agentes, m supervisor y relaciones\n",
        "\n",
        "* Al menos n agentes\n",
        "$$ \\sum_{i=1}^N x_i \\geq n $$\n",
        "\n",
        "* Al menos m supervisores\n",
        "$$ \\sum_{j=1}^M y_i \\geq m $$\n",
        "\n",
        "\n",
        "* Relación agente supervisor 10:1\n",
        "\n",
        "\n",
        "\n",
        "$$ 10 * \\sum_{j=1}^M y_i \\geq \\sum_{i=1}^N x_i $$\n"
      ],
      "metadata": {
        "id": "rkiUBZgK3-Vl"
      }
    },
    {
      "cell_type": "code",
      "source": [
        "n = 3\n",
        "m = 1\n",
        "# Añadir la restricción de presupuesto\n",
        "model += lpSum(agentes) >= n, \"Al_menos_n_agente\"\n",
        "model += lpSum(supervisores) >= m, \"Al_menos_m_supervisor\"\n",
        "model += 10 * lpSum(supervisores) >= lpSum(agentes), \"Relacion_supervisor_agente\""
      ],
      "metadata": {
        "id": "XM_ZXl4t4_ib"
      },
      "execution_count": null,
      "outputs": []
    },
    {
      "cell_type": "markdown",
      "source": [
        "# Solver"
      ],
      "metadata": {
        "id": "HCxVqJAz77Ak"
      }
    },
    {
      "cell_type": "code",
      "source": [
        "model.solve()\n",
        "print(f\"Estado: {model.status}, {LpStatus[model.status]}\")\n",
        "for var in agentes + supervisores:5\n",
        "    print(f\"{var.name}: {var.varValue}\")\n",
        "\n",
        "print(f\"Función objetivo = {model.objective.value()}\")"
      ],
      "metadata": {
        "colab": {
          "base_uri": "https://localhost:8080/"
        },
        "id": "ybyeC416m8L4",
        "outputId": "5d2400aa-d7b6-4344-b4de-e4d7183f1814"
      },
      "execution_count": null,
      "outputs": [
        {
          "output_type": "stream",
          "name": "stdout",
          "text": [
            "Estado: 1, Optimal\n",
            "agente_0: 1.0\n",
            "agente_1: 0.0\n",
            "agente_2: 1.0\n",
            "agente_3: 0.0\n",
            "agente_4: 1.0\n",
            "supervisor_0: 1.0\n",
            "supervisor_1: 0.0\n",
            "supervisor_2: 0.0\n",
            "Función objetivo = 1825.0\n"
          ]
        }
      ]
    }
  ]
}